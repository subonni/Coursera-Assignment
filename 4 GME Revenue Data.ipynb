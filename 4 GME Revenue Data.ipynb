{
 "cells": [
  {
   "cell_type": "markdown",
   "id": "8edbd843-8b9e-49d5-9479-8de2674a5ef9",
   "metadata": {},
   "source": [
    "## Question 4: Use Webscraping to Extract GME Revenue Data"
   ]
  },
  {
   "cell_type": "markdown",
   "id": "9b2c2dfa-0824-4e99-8c99-3e29ecb89e0d",
   "metadata": {},
   "source": [
    "Use the requests library to download the webpage https://cf-courses-data.s3.us.cloud-object-storage.appdomain.cloud/IBMDeveloperSkillsNetwork-PY0220EN-SkillsNetwork/labs/project/stock.html. Save the text of the response as a variable named html_data_2."
   ]
  },
  {
   "cell_type": "code",
   "execution_count": 1,
   "id": "bbc9b6fd-126c-4db7-917d-423d275a1d0c",
   "metadata": {},
   "outputs": [],
   "source": [
    "import requests\n",
    "from bs4 import BeautifulSoup\n",
    "import warnings\n",
    "# Ignore all warnings\n",
    "warnings.filterwarnings(\"ignore\", category=FutureWarning)"
   ]
  },
  {
   "cell_type": "code",
   "execution_count": 3,
   "id": "39c25b96-9c95-4dfe-8e07-2fde1cf7f463",
   "metadata": {},
   "outputs": [],
   "source": [
    "url = 'https://cf-courses-data.s3.us.cloud-object-storage.appdomain.cloud/IBMDeveloperSkillsNetwork-PY0220EN-SkillsNetwork/labs/project/stock.html'\n",
    "html_data_2 = requests.get(url).text"
   ]
  },
  {
   "cell_type": "markdown",
   "id": "09c49917-ae0a-4b06-b969-8df54a5547c3",
   "metadata": {},
   "source": [
    "Parse the html data using beautiful_soup using parser i.e html5lib or html.parser"
   ]
  },
  {
   "cell_type": "code",
   "execution_count": 5,
   "id": "47c14b82-a813-4fa0-9abd-de056f8c2f6b",
   "metadata": {},
   "outputs": [],
   "source": [
    "beautiful_soup = BeautifulSoup(html_data_2,'html.parser')"
   ]
  },
  {
   "cell_type": "markdown",
   "id": "bb5261df-2f06-4749-8ebd-6d7525a01236",
   "metadata": {},
   "source": [
    "Using BeautifulSoup or the read_html function extract the table with GameStop Revenue and store it into a dataframe named gme_revenue. The dataframe should have columns Date and Revenue. Make sure the comma and dollar sign is removed from the Revenue column."
   ]
  },
  {
   "cell_type": "code",
   "execution_count": 7,
   "id": "56a3957c-1938-4bc6-8900-39560ce75fd6",
   "metadata": {},
   "outputs": [],
   "source": [
    "import pandas as pd\n",
    "gme_revenue = pd.DataFrame(columns = [\"Date\",\"Revenue\"]) "
   ]
  },
  {
   "cell_type": "code",
   "execution_count": 9,
   "id": "dd5cfcc4-3e0f-4f4b-87c3-6aa4b4c7f377",
   "metadata": {},
   "outputs": [],
   "source": [
    "tables=beautiful_soup.find_all(\"table\")\n",
    "for index,table in enumerate(tables):\n",
    "    if(\"GameStop Quarterly Revenue\" in str(table)):\n",
    "        table_index=index\n",
    "gme_revenue=pd.DataFrame(columns=[\"Date\",\"Revenue\"])\n",
    "rows = []\n",
    "for row in tables[table_index].tbody.find_all(\"tr\"):\n",
    "    col = row.find_all(\"td\")\n",
    "    if len(col) != 2:\n",
    "        continue\n",
    "    Date = col[0].text\n",
    "    Revenue = col[1].text.replace(\"$\", \"\").replace(\",\", \"\")\n",
    "    rows.append({\"Date\": Date, \"Revenue\": Revenue})\n",
    "    \n",
    "gme_revenue = pd.concat([gme_revenue, pd.DataFrame(rows)])   "
   ]
  },
  {
   "cell_type": "code",
   "execution_count": 9,
   "id": "1df6d21b-8863-48dd-b0fb-267fff5866a2",
   "metadata": {},
   "outputs": [],
   "source": [
    "#for row in beautiful_soup.find(\"tbody\").find_all(\"tr\"):\n",
    "    #col = row.find_all(\"td\")\n",
    "    #date = col[0].text\n",
    "    #revenue = col[1].text\n",
    "    #gme_revenue = pd.concat([gme_revenue,pd.DataFrame({\"Date\":[date],\"Revenue\":[revenue]})], ignore_index=True)   "
   ]
  },
  {
   "cell_type": "code",
   "execution_count": 11,
   "id": "490718eb-185a-4c21-b468-62ad814e308c",
   "metadata": {},
   "outputs": [
    {
     "name": "stdout",
     "output_type": "stream",
     "text": [
      "          Date Revenue\n",
      "0   2020-04-30    1021\n",
      "1   2020-01-31    2194\n",
      "2   2019-10-31    1439\n",
      "3   2019-07-31    1286\n",
      "4   2019-04-30    1548\n",
      "..         ...     ...\n",
      "57  2006-01-31    1667\n",
      "58  2005-10-31     534\n",
      "59  2005-07-31     416\n",
      "60  2005-04-30     475\n",
      "61  2005-01-31     709\n",
      "\n",
      "[62 rows x 2 columns]\n"
     ]
    }
   ],
   "source": [
    "print(gme_revenue)"
   ]
  },
  {
   "cell_type": "code",
   "execution_count": 13,
   "id": "a154c002-f33d-46f2-9872-ea78a895a09c",
   "metadata": {},
   "outputs": [],
   "source": [
    "gme_revenue[\"Revenue\"] = gme_revenue[\"Revenue\"].str.replace(',','').str.replace('$','')\n",
    "#gme_revenue"
   ]
  },
  {
   "cell_type": "code",
   "execution_count": 15,
   "id": "691afead-2ebe-4e3a-bf68-e4e0e7b7df9d",
   "metadata": {},
   "outputs": [],
   "source": [
    "gme_revenue.dropna(inplace=True)\n",
    "gme_revenue = gme_revenue[gme_revenue[\"Revenue\"]!= \"\"]"
   ]
  },
  {
   "cell_type": "markdown",
   "id": "5ef10ce7-d5bc-40e1-b032-ca38dfc0a493",
   "metadata": {},
   "source": [
    "Display the last five rows of the gme_revenue dataframe using the tail function. Take a screenshot of the results."
   ]
  },
  {
   "cell_type": "code",
   "execution_count": 13,
   "id": "dcbca1c8-e03a-41b5-929f-4ef864935e43",
   "metadata": {},
   "outputs": [
    {
     "data": {
      "text/html": [
       "<div>\n",
       "<style scoped>\n",
       "    .dataframe tbody tr th:only-of-type {\n",
       "        vertical-align: middle;\n",
       "    }\n",
       "\n",
       "    .dataframe tbody tr th {\n",
       "        vertical-align: top;\n",
       "    }\n",
       "\n",
       "    .dataframe thead th {\n",
       "        text-align: right;\n",
       "    }\n",
       "</style>\n",
       "<table border=\"1\" class=\"dataframe\">\n",
       "  <thead>\n",
       "    <tr style=\"text-align: right;\">\n",
       "      <th></th>\n",
       "      <th>Date</th>\n",
       "      <th>Revenue</th>\n",
       "    </tr>\n",
       "  </thead>\n",
       "  <tbody>\n",
       "    <tr>\n",
       "      <th>57</th>\n",
       "      <td>2006-01-31</td>\n",
       "      <td>1667</td>\n",
       "    </tr>\n",
       "    <tr>\n",
       "      <th>58</th>\n",
       "      <td>2005-10-31</td>\n",
       "      <td>534</td>\n",
       "    </tr>\n",
       "    <tr>\n",
       "      <th>59</th>\n",
       "      <td>2005-07-31</td>\n",
       "      <td>416</td>\n",
       "    </tr>\n",
       "    <tr>\n",
       "      <th>60</th>\n",
       "      <td>2005-04-30</td>\n",
       "      <td>475</td>\n",
       "    </tr>\n",
       "    <tr>\n",
       "      <th>61</th>\n",
       "      <td>2005-01-31</td>\n",
       "      <td>709</td>\n",
       "    </tr>\n",
       "  </tbody>\n",
       "</table>\n",
       "</div>"
      ],
      "text/plain": [
       "          Date Revenue\n",
       "57  2006-01-31    1667\n",
       "58  2005-10-31     534\n",
       "59  2005-07-31     416\n",
       "60  2005-04-30     475\n",
       "61  2005-01-31     709"
      ]
     },
     "execution_count": 13,
     "metadata": {},
     "output_type": "execute_result"
    }
   ],
   "source": [
    "gme_revenue.tail()"
   ]
  },
  {
   "cell_type": "code",
   "execution_count": null,
   "id": "91b477f2-9770-46f3-8ea3-9b6cbf64ffc7",
   "metadata": {},
   "outputs": [],
   "source": []
  }
 ],
 "metadata": {
  "kernelspec": {
   "display_name": "Python 3 (ipykernel)",
   "language": "python",
   "name": "python3"
  },
  "language_info": {
   "codemirror_mode": {
    "name": "ipython",
    "version": 3
   },
   "file_extension": ".py",
   "mimetype": "text/x-python",
   "name": "python",
   "nbconvert_exporter": "python",
   "pygments_lexer": "ipython3",
   "version": "3.12.4"
  }
 },
 "nbformat": 4,
 "nbformat_minor": 5
}
